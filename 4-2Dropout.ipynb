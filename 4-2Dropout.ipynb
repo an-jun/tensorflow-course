{
 "cells": [
  {
   "cell_type": "code",
   "execution_count": null,
   "metadata": {},
   "outputs": [],
   "source": [
    "import tensorflow as tf\n",
    "from tensorflow.examples.tutorials.mnist import input_data\n",
    "\n",
    "'''\n",
    "@author :wangkechn\n",
    "https://github.com/wangkechn\n",
    "'''\n"
   ]
  },
  {
   "cell_type": "code",
   "execution_count": null,
   "metadata": {},
   "outputs": [],
   "source": [
    "#载入数据集\n",
    "mnist = input_data.read_data_sets('MNIST_data/',one_hot=True)\n"
   ]
  },
  {
   "cell_type": "code",
   "execution_count": 3,
   "metadata": {},
   "outputs": [
    {
     "name": "stdout",
     "output_type": "stream",
     "text": [
      "WARNING:tensorflow:From <ipython-input-3-b315d0bfe92f>:52: softmax_cross_entropy_with_logits (from tensorflow.python.ops.nn_ops) is deprecated and will be removed in a future version.\n",
      "Instructions for updating:\n",
      "\n",
      "Future major versions of TensorFlow will allow gradients to flow\n",
      "into the labels input on backprop by default.\n",
      "\n",
      "See @{tf.nn.softmax_cross_entropy_with_logits_v2}.\n",
      "\n",
      "Iter0,Testing Accuracy 0.9157 ,Training Accuracy 0.90956366\n",
      "Iter1,Testing Accuracy 0.9273 ,Training Accuracy 0.9245818\n",
      "Iter2,Testing Accuracy 0.9356 ,Training Accuracy 0.93332726\n",
      "Iter3,Testing Accuracy 0.9417 ,Training Accuracy 0.93978184\n",
      "Iter4,Testing Accuracy 0.9424 ,Training Accuracy 0.94174546\n",
      "Iter5,Testing Accuracy 0.9464 ,Training Accuracy 0.94812727\n",
      "Iter6,Testing Accuracy 0.9499 ,Training Accuracy 0.9512\n",
      "Iter7,Testing Accuracy 0.951 ,Training Accuracy 0.95232725\n",
      "Iter8,Testing Accuracy 0.953 ,Training Accuracy 0.95543635\n",
      "Iter9,Testing Accuracy 0.952 ,Training Accuracy 0.95696366\n",
      "Iter10,Testing Accuracy 0.9542 ,Training Accuracy 0.95925456\n",
      "Iter11,Testing Accuracy 0.9564 ,Training Accuracy 0.9605455\n",
      "Iter12,Testing Accuracy 0.9569 ,Training Accuracy 0.9628\n",
      "Iter13,Testing Accuracy 0.9594 ,Training Accuracy 0.96385455\n",
      "Iter14,Testing Accuracy 0.9609 ,Training Accuracy 0.96592724\n",
      "Iter15,Testing Accuracy 0.9618 ,Training Accuracy 0.9666909\n",
      "Iter16,Testing Accuracy 0.9624 ,Training Accuracy 0.96689093\n",
      "Iter17,Testing Accuracy 0.9624 ,Training Accuracy 0.9678909\n",
      "Iter18,Testing Accuracy 0.9634 ,Training Accuracy 0.9691273\n",
      "Iter19,Testing Accuracy 0.9656 ,Training Accuracy 0.9705091\n",
      "Iter20,Testing Accuracy 0.9653 ,Training Accuracy 0.9704546\n"
     ]
    }
   ],
   "source": [
    "\n",
    "#每个批次的大小\n",
    "batch_size = 100\n",
    "#计算一共有多少个批次\n",
    "n_batch = mnist.train.num_examples // batch_size\n",
    "\n",
    "#定义两个placeholder\n",
    "x = tf.placeholder(tf.float32,[None,784])\n",
    "y = tf.placeholder(tf.float32,[None,10])\n",
    "\n",
    "'''\n",
    "#创建一个简单的神经网络[784,32,10]\n",
    "W_L1 = tf.Variable(tf.random_normal([784,32]))\n",
    "b_L1 = tf.Variable(tf.zeros([32]))\n",
    "L1 = tf.nn.sigmoid(tf.matmul(x,W_L1)+b_L1)\n",
    "\n",
    "W_L2 = tf.Variable(tf.random_normal([32,10]))\n",
    "b_L2 = tf.Variable(tf.zeros([10]))\n",
    "prediction = tf.nn.softmax(tf.matmul(L1,W_L2)+b_L2)\n",
    "\n",
    "'''\n",
    "#设置dropout系数\n",
    "keep_prob = tf.placeholder(tf.float32)\n",
    "\n",
    "#需要注意dropout只是简单的选取了一部分神经元做训练，但是网络的结构没有变化\n",
    "#创建一个简单的神经网络[784,10]\n",
    "W1 = tf.Variable(tf.truncated_normal([784,2000],stddev=0.1))\n",
    "b1 = tf.Variable(tf.zeros([2000])+0.1)\n",
    "L1 = tf.tanh(tf.matmul(x,W1)+b1)\n",
    "L1_drop = tf.nn.dropout(L1,keep_prob)\n",
    "\n",
    "W2 = tf.Variable(tf.truncated_normal([2000,2000],stddev=0.1))\n",
    "b2 = tf.Variable(tf.zeros([2000])+0.1)\n",
    "L2 = tf.tanh(tf.matmul(L1_drop,W2)+b2)\n",
    "L2_drop = tf.nn.dropout(L2,keep_prob)\n",
    "\n",
    "W3 = tf.Variable(tf.truncated_normal([2000,1000],stddev=0.1))\n",
    "b3 = tf.Variable(tf.zeros([1000])+0.1)\n",
    "L3 = tf.tanh(tf.matmul(L2_drop,W3)+b3)\n",
    "L3_drop = tf.nn.dropout(L3,keep_prob)\n",
    "\n",
    "W4 = tf.Variable(tf.truncated_normal([1000,10],stddev=0.1))\n",
    "b4 = tf.Variable(tf.zeros([10])+0.1)\n",
    "\n",
    "prediction = tf.nn.softmax(tf.matmul(L3_drop,W4)+b4)\n",
    "\n",
    "'''\n",
    "#二次代价函数\n",
    "loss = tf.reduce_mean(tf.square(y - prediction))\n",
    "'''\n",
    "#交叉熵代价函数   该版本的之后会被移除 详见下面的WARNING\n",
    "loss = tf.reduce_mean(tf.nn.softmax_cross_entropy_with_logits(labels=y,logits=prediction))\n",
    "\n",
    "#使用梯度下降法\n",
    "train_step = tf.train.GradientDescentOptimizer(0.2).minimize(loss)\n",
    "\n",
    "#初始化变量\n",
    "init = tf.global_variables_initializer()\n",
    "\n",
    "#equal 比较相同 返回True  结果存放在布尔型列表中\n",
    "correct_prediction = tf.equal(tf.argmax(y,1),tf.argmax(prediction,1))  #argmax()返回一维向量中最大的值的索引位置\n",
    "#求准确率\n",
    "accuracy = tf.reduce_mean(tf.cast(correct_prediction,tf.float32)) #cast()转化格式 True为1.0 False:0.0\n",
    "\n",
    "\n",
    "with tf.Session() as sess:\n",
    "    sess.run(init)\n",
    "    for epoch in range(21):\n",
    "        for batch in range(n_batch):\n",
    "            batch_xs,batch_ys = mnist.train.next_batch(batch_size)\n",
    "            sess.run(train_step,feed_dict={x:batch_xs,y:batch_ys,keep_prob:0.7})#训练时dropout调节到0.7\n",
    "            \n",
    "            \n",
    "            \n",
    "            \n",
    "        test_acc = sess.run(accuracy,feed_dict={x:mnist.test.images,y:mnist.test.labels,keep_prob:1.0})\n",
    "        train_acc = sess.run(accuracy,feed_dict={x:mnist.train.images,y:mnist.train.labels,keep_prob:1.0})\n",
    "        print('Iter' + str(epoch) + \",Testing Accuracy \"+ str(test_acc),\",Training Accuracy \"+ str(train_acc))\n",
    "\n",
    "        \n",
    "#提高准确率 batch_size 网络层数设计  初始化权重、偏置  迭代次数"
   ]
  },
  {
   "cell_type": "code",
   "execution_count": 5,
   "metadata": {},
   "outputs": [
    {
     "data": {
      "text/plain": [
       "'\\n这里的表现不是很明显，但是对数据集很大的数据而言一般dropout效果明显\\n\\n'"
      ]
     },
     "execution_count": 5,
     "metadata": {},
     "output_type": "execute_result"
    }
   ],
   "source": [
    "#未使用dropout\n",
    "'''\n",
    "Iter0,Testing Accuracy 0.8559 ,Training Accuracy 0.8659818\n",
    "Iter1,Testing Accuracy 0.8649 ,Training Accuracy 0.8795636\n",
    "Iter2,Testing Accuracy 0.8673 ,Training Accuracy 0.88463634\n",
    "Iter3,Testing Accuracy 0.8695 ,Training Accuracy 0.88781816\n",
    "Iter4,Testing Accuracy 0.8706 ,Training Accuracy 0.88934547\n",
    "Iter5,Testing Accuracy 0.9591 ,Training Accuracy 0.9796182\n",
    "Iter6,Testing Accuracy 0.9666 ,Training Accuracy 0.9879091\n",
    "Iter7,Testing Accuracy 0.9671 ,Training Accuracy 0.99036366\n",
    "Iter8,Testing Accuracy 0.9679 ,Training Accuracy 0.9915091\n",
    "Iter9,Testing Accuracy 0.9683 ,Training Accuracy 0.9922\n",
    "Iter10,Testing Accuracy 0.9694 ,Training Accuracy 0.9928909\n",
    "Iter11,Testing Accuracy 0.9698 ,Training Accuracy 0.99343634\n",
    "Iter12,Testing Accuracy 0.9701 ,Training Accuracy 0.99372727\n",
    "Iter13,Testing Accuracy 0.9696 ,Training Accuracy 0.9939455\n",
    "Iter14,Testing Accuracy 0.9705 ,Training Accuracy 0.9942182\n",
    "Iter15,Testing Accuracy 0.9705 ,Training Accuracy 0.9944182\n",
    "Iter16,Testing Accuracy 0.9707 ,Training Accuracy 0.99465454\n",
    "Iter17,Testing Accuracy 0.9717 ,Training Accuracy 0.99494547\n",
    "Iter18,Testing Accuracy 0.9706 ,Training Accuracy 0.9951636\n",
    "Iter19,Testing Accuracy 0.971 ,Training Accuracy 0.9953273\n",
    "Iter20,Testing Accuracy 0.9709 ,Training Accuracy 0.99552727\n",
    "'''\n",
    "'''\n",
    "这里的表现不是很明显，但是对数据集很大的数据而言一般dropout效果明显\n",
    "\n",
    "'''\n"
   ]
  },
  {
   "cell_type": "code",
   "execution_count": null,
   "metadata": {},
   "outputs": [],
   "source": []
  }
 ],
 "metadata": {
  "kernelspec": {
   "display_name": "Python 3",
   "language": "python",
   "name": "python3"
  },
  "language_info": {
   "codemirror_mode": {
    "name": "ipython",
    "version": 3
   },
   "file_extension": ".py",
   "mimetype": "text/x-python",
   "name": "python",
   "nbconvert_exporter": "python",
   "pygments_lexer": "ipython3",
   "version": "3.5.4"
  }
 },
 "nbformat": 4,
 "nbformat_minor": 2
}
