{
 "cells": [
  {
   "cell_type": "code",
   "execution_count": null,
   "metadata": {},
   "outputs": [],
   "source": [
    "import tensorflow as tf\n",
    "from tensorflow.examples.tutorials.mnist import input_data\n",
    "'''\n",
    "@author :wangkechn\n",
    "https://github.com/wangkechn\n",
    "'''"
   ]
  },
  {
   "cell_type": "code",
   "execution_count": null,
   "metadata": {},
   "outputs": [],
   "source": [
    "#载入数据集\n",
    "mnist = input_data.read_data_sets('MNIST_data',one_hot=True)\n"
   ]
  },
  {
   "cell_type": "code",
   "execution_count": 3,
   "metadata": {},
   "outputs": [
    {
     "name": "stdout",
     "output_type": "stream",
     "text": [
      "WARNING:tensorflow:From <ipython-input-3-f8da0d08b326>:22: softmax_cross_entropy_with_logits (from tensorflow.python.ops.nn_ops) is deprecated and will be removed in a future version.\n",
      "Instructions for updating:\n",
      "\n",
      "Future major versions of TensorFlow will allow gradients to flow\n",
      "into the labels input on backprop by default.\n",
      "\n",
      "See @{tf.nn.softmax_cross_entropy_with_logits_v2}.\n",
      "\n",
      "Iter0,Testing Accuracy 0.9232\n",
      "Iter1,Testing Accuracy 0.9251\n",
      "Iter2,Testing Accuracy 0.9262\n",
      "Iter3,Testing Accuracy 0.9293\n",
      "Iter4,Testing Accuracy 0.9296\n",
      "Iter5,Testing Accuracy 0.9265\n",
      "Iter6,Testing Accuracy 0.9269\n",
      "Iter7,Testing Accuracy 0.9316\n",
      "Iter8,Testing Accuracy 0.9291\n",
      "Iter9,Testing Accuracy 0.9322\n",
      "Iter10,Testing Accuracy 0.931\n",
      "Iter11,Testing Accuracy 0.9322\n",
      "Iter12,Testing Accuracy 0.9308\n",
      "Iter13,Testing Accuracy 0.9323\n",
      "Iter14,Testing Accuracy 0.9311\n",
      "Iter15,Testing Accuracy 0.9305\n",
      "Iter16,Testing Accuracy 0.9329\n",
      "Iter17,Testing Accuracy 0.9318\n",
      "Iter18,Testing Accuracy 0.9316\n",
      "Iter19,Testing Accuracy 0.9274\n",
      "Iter20,Testing Accuracy 0.9287\n"
     ]
    }
   ],
   "source": [
    "#每个批次的大小\n",
    "batch_size = 100\n",
    "#计算一共有多少个批次\n",
    "n_batch = mnist.train.num_examples // batch_size\n",
    "\n",
    "#定义两个placeholder\n",
    "x = tf.placeholder(tf.float32,[None,784])\n",
    "y = tf.placeholder(tf.float32,[None,10])\n",
    "\n",
    "\n",
    "\n",
    "#创建一个简单的神经网络[784,10]\n",
    "W = tf.Variable(tf.zeros([784,10]))\n",
    "b = tf.Variable(tf.zeros([10]))\n",
    "prediction = tf.nn.softmax(tf.matmul(x,W)+b)\n",
    "\n",
    "'''\n",
    "#二次代价函数\n",
    "loss = tf.reduce_mean(tf.square(y - prediction))\n",
    "'''\n",
    "#交叉熵代价函数 该版本的之后会被移除 详见下面的WARNING\n",
    "loss = tf.reduce_mean(tf.nn.softmax_cross_entropy_with_logits(labels=y,logits=prediction))\n",
    "\n",
    "#使用梯度下降法\n",
    "#train_step = tf.train.GradientDescentOptimizer(0.2).minimize(loss)\n",
    "train_step = tf.train.AdamOptimizer(1e-2).minimize(loss)\n",
    "\n",
    "#初始化变量\n",
    "init = tf.global_variables_initializer()\n",
    "\n",
    "#equal 比较相同 返回True  结果存放在布尔型列表中\n",
    "correct_prediction = tf.equal(tf.argmax(y,1),tf.argmax(prediction,1))  #argmax()返回一维向量中最大的值的索引位置\n",
    "#求准确率\n",
    "accuracy = tf.reduce_mean(tf.cast(correct_prediction,tf.float32)) #cast()转化格式 True为1.0 False:0.0\n",
    "\n",
    "\n",
    "with tf.Session() as sess:\n",
    "    sess.run(init)\n",
    "    for epoch in range(21):\n",
    "        for batch in range(n_batch):\n",
    "            batch_xs,batch_ys = mnist.train.next_batch(batch_size)\n",
    "            sess.run(train_step,feed_dict={x:batch_xs,y:batch_ys})\n",
    "            \n",
    "            \n",
    "            \n",
    "            \n",
    "            \n",
    "        acc = sess.run(accuracy,feed_dict={x:mnist.test.images,y:mnist.test.labels})\n",
    "        print('Iter' + str(epoch) + \",Testing Accuracy \"+ str(acc))\n",
    "\n",
    "#Adam速度快了好多   网络模型结构改变也可以        \n",
    "#提高准确率 batch_size 网络层数设计  初始化权重、偏置  迭代次数"
   ]
  }
 ],
 "metadata": {
  "kernelspec": {
   "display_name": "Python 3",
   "language": "python",
   "name": "python3"
  },
  "language_info": {
   "codemirror_mode": {
    "name": "ipython",
    "version": 3
   },
   "file_extension": ".py",
   "mimetype": "text/x-python",
   "name": "python",
   "nbconvert_exporter": "python",
   "pygments_lexer": "ipython3",
   "version": "3.5.4"
  }
 },
 "nbformat": 4,
 "nbformat_minor": 2
}
