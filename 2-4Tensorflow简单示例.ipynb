{
 "cells": [
  {
   "cell_type": "code",
   "execution_count": null,
   "metadata": {},
   "outputs": [],
   "source": [
    "import tensorflow as tf\n",
    "import numpy as np\n",
    "\n",
    "'''\n",
    "@author :wangkechn\n",
    "https://github.com/wangkechn\n",
    "'''"
   ]
  },
  {
   "cell_type": "code",
   "execution_count": 2,
   "metadata": {},
   "outputs": [
    {
     "name": "stdout",
     "output_type": "stream",
     "text": [
      "0 [0.04995283, 0.09881013, 0.015774606]\n",
      "20 [0.10051371, 0.19973998, 2.3346525e-08]\n",
      "40 [0.10029011, 0.19985324, 7.4438993e-09]\n",
      "60 [0.100163825, 0.19991712, 2.3739357e-09]\n",
      "80 [0.10009251, 0.1999532, 7.5694956e-10]\n",
      "100 [0.10005224, 0.19997357, 2.413843e-10]\n",
      "120 [0.1000295, 0.19998509, 7.6948954e-11]\n",
      "140 [0.100016646, 0.19999157, 2.4520306e-11]\n",
      "160 [0.10000939, 0.19999525, 7.797678e-12]\n",
      "180 [0.100005314, 0.1999973, 2.5015944e-12]\n",
      "200 [0.10000302, 0.19999847, 8.090351e-13]\n"
     ]
    },
    {
     "data": {
      "text/plain": [
       "'\\n优化器主要优化的就是图中定义的变量使得loss最小\\n\\n'"
      ]
     },
     "execution_count": 2,
     "metadata": {},
     "output_type": "execute_result"
    }
   ],
   "source": [
    "#使用numpy生成100个随机点\n",
    "x_data = np.random.rand(100)\n",
    "y_data = x_data * 0.1 + 0.2\n",
    "\n",
    "#构造一个线性模型\n",
    "b = tf.Variable(0.)\n",
    "k = tf.Variable(0.)\n",
    "y = k*x_data + b\n",
    "\n",
    "#定义一个二次代价函数\n",
    "loss = tf.reduce_mean(tf.square(y_data-y))\n",
    "#定义一个梯度下降法来进行训练的优化器\n",
    "optimizer = tf.train.GradientDescentOptimizer(0.2)\n",
    "\n",
    "#定义一个最小化代价函数\n",
    "train = optimizer.minimize(loss)\n",
    "\n",
    "init = tf.global_variables_initializer()\n",
    "\n",
    "with tf.Session() as sess:\n",
    "    sess.run(init)\n",
    "    for step in range(201):\n",
    "        sess.run(train)\n",
    "        if step%20 == 0 :\n",
    "            print(step,sess.run([k,b,loss]))\n",
    "            \n",
    "            \n",
    "'''\n",
    "优化器主要优化的就是图中定义的变量使得loss最小\n",
    "\n",
    "'''"
   ]
  },
  {
   "cell_type": "code",
   "execution_count": null,
   "metadata": {},
   "outputs": [],
   "source": []
  }
 ],
 "metadata": {
  "kernelspec": {
   "display_name": "Python 3",
   "language": "python",
   "name": "python3"
  },
  "language_info": {
   "codemirror_mode": {
    "name": "ipython",
    "version": 3
   },
   "file_extension": ".py",
   "mimetype": "text/x-python",
   "name": "python",
   "nbconvert_exporter": "python",
   "pygments_lexer": "ipython3",
   "version": "3.5.4"
  }
 },
 "nbformat": 4,
 "nbformat_minor": 2
}
