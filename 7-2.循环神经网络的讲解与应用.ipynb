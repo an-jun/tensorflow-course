{
 "cells": [
  {
   "cell_type": "code",
   "execution_count": null,
   "metadata": {},
   "outputs": [],
   "source": [
    "import tensorflow as tf\n",
    "from tensorflow.examples.tutorials.mnist import input_data\n",
    "\n",
    "'''\n",
    "@author : wangkechn\n",
    "https://github.com/wangkechn\n",
    "'''\n",
    "#载入数据集\n",
    "mnist = input_data.read_data_sets('MNIST_data',one_hot=True)\n"
   ]
  },
  {
   "cell_type": "code",
   "execution_count": 2,
   "metadata": {},
   "outputs": [
    {
     "name": "stdout",
     "output_type": "stream",
     "text": [
      "WARNING:tensorflow:From <ipython-input-2-de362ac812f0>:46: softmax_cross_entropy_with_logits (from tensorflow.python.ops.nn_ops) is deprecated and will be removed in a future version.\n",
      "Instructions for updating:\n",
      "\n",
      "Future major versions of TensorFlow will allow gradients to flow\n",
      "into the labels input on backprop by default.\n",
      "\n",
      "See @{tf.nn.softmax_cross_entropy_with_logits_v2}.\n",
      "\n",
      "Iter0,Testing Accuracy 0.6856\n",
      "Iter1,Testing Accuracy 0.8095\n",
      "Iter2,Testing Accuracy 0.8956\n",
      "Iter3,Testing Accuracy 0.9105\n",
      "Iter4,Testing Accuracy 0.9263\n",
      "Iter5,Testing Accuracy 0.9374\n"
     ]
    }
   ],
   "source": [
    "#输入图片是28*28\n",
    "n_imputs = 28 #输入一行 一行有28个数据\n",
    "max_time = 28 #一共28行\n",
    "lstm_size = 100 #隐层单元\n",
    "n_classes = 10 #10个分类\n",
    "batch_size = 50 #每个批次50个样本\n",
    "n_batch = mnist.train.num_examples // batch_size #计算一共有多少个批次\n",
    "\n",
    "#这里none表示第一个维度可以是任意长度\n",
    "x = tf.placeholder(tf.float32,[None,784])#28*28\n",
    "#正确的标签\n",
    "y = tf.placeholder(tf.float32,[None,10])\n",
    "\n",
    "#初始化权值 偏置值\n",
    "weights = tf.Variable(tf.truncated_normal([lstm_size,n_classes],stddev=0.1))\n",
    "biases = tf.Variable(tf.constant(0.1,shape = [n_classes]))\n",
    "\n",
    "#定义RNN网络\n",
    "\n",
    "def RNN(X, weights, biases):\n",
    "    #inputs = [batch_size, max_time, n_inputs]\n",
    "    inputs = tf.reshape(X,[-1, max_time, n_imputs])\n",
    "    #定义LSTM基本CELl\n",
    "    #lstm_cell = tf.contrib.rnn.core_rnn_cell.BasicLSTMCell(lstm_size)\n",
    "    lstm_cell = tf.contrib.rnn.BasicLSTMCell(lstm_size)\n",
    "    #final_state[state,batch_size(50),cell.state_size(lstm_size100)]\n",
    "    #final_state[0] 是cell state  中间的信号\n",
    "    #final_state[1]是hidden state\n",
    "    #outputs: The RNN output `Tensor`.\n",
    "    #If time_major == False (default), this will be a `Tensor` shaped:\n",
    "    # `[batch_size, max_time, cell.output_size(100)]`.\n",
    "\n",
    "    #If time_major == True, this will be a `Tensor` shaped:\n",
    "    #  `[max_time, batch_size, cell.output_size]`.\n",
    "    #outputs记录了共max_time的输出 最后一一个\n",
    "    #final_state[1]只记录了最后一次\n",
    "    \n",
    "    outputs, final_state = tf.nn.dynamic_rnn(lstm_cell, inputs, dtype = tf.float32)\n",
    "    results = tf.nn.softmax(tf.matmul(final_state[1], weights) + biases)\n",
    "    return results\n",
    "\n",
    "#计算RNN的返回结果\n",
    "prediction = RNN(x,weights,biases)\n",
    "\n",
    "#交叉熵代价函数   该版本的之后会被移除 详见下面的WARNING\n",
    "cross_entropy = tf.reduce_mean(tf.nn.softmax_cross_entropy_with_logits(labels=y,logits=prediction))\n",
    "#使用adamOptimizer进行优化\n",
    "train_step = tf.train.AdamOptimizer(1e-4).minimize(cross_entropy)\n",
    "\n",
    "#初始化变量\n",
    "init = tf.global_variables_initializer()\n",
    "\n",
    "\n",
    "#equal 比较相同 返回True  结果存放在布尔型列表中\n",
    "correct_prediction = tf.equal(tf.argmax(y,1),tf.argmax(prediction,1))  #argmax()返回一维向量中最大的值的索引位置\n",
    "#求准确率\n",
    "accuracy = tf.reduce_mean(tf.cast(correct_prediction,tf.float32)) #cast()转化格式 True为1.0 False:0.0 变为float32类型\n",
    "\n",
    "with tf.Session() as sess:\n",
    "    sess.run(init)\n",
    "    #重新运行程序 否则图会重叠\n",
    "    for epoch in range(6):\n",
    "        for batch in range(n_batch):\n",
    "            batch_xs,batch_ys = mnist.train.next_batch(batch_size)\n",
    "            sess.run(train_step,feed_dict={x:batch_xs,y:batch_ys})\n",
    "                         \n",
    "        acc = sess.run(accuracy,feed_dict={x:mnist.test.images,y:mnist.test.labels})\n",
    "        print('Iter' + str(epoch) + \",Testing Accuracy \"+ str(acc))"
   ]
  },
  {
   "cell_type": "code",
   "execution_count": null,
   "metadata": {},
   "outputs": [],
   "source": []
  }
 ],
 "metadata": {
  "kernelspec": {
   "display_name": "Python 3",
   "language": "python",
   "name": "python3"
  },
  "language_info": {
   "codemirror_mode": {
    "name": "ipython",
    "version": 3
   },
   "file_extension": ".py",
   "mimetype": "text/x-python",
   "name": "python",
   "nbconvert_exporter": "python",
   "pygments_lexer": "ipython3",
   "version": "3.5.4"
  }
 },
 "nbformat": 4,
 "nbformat_minor": 2
}
